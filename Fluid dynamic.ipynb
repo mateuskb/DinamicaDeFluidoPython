{
 "cells": [
  {
   "cell_type": "code",
   "execution_count": 39,
   "metadata": {},
   "outputs": [],
   "source": [
    "import numpy as np\n",
    "from matplotlib import pyplot as plt\n",
    "from matplotlib import colors\n",
    "import time, sys, random\n",
    "from time import sleep"
   ]
  },
  {
   "cell_type": "code",
   "execution_count": 2,
   "metadata": {},
   "outputs": [],
   "source": [
    "%matplotlib inline"
   ]
  },
  {
   "cell_type": "code",
   "execution_count": 47,
   "metadata": {},
   "outputs": [],
   "source": [
    "class Dot:\n",
    "    \n",
    "    def __init__(self, speed, ang, temp):\n",
    "        self.pos = [0, 0]\n",
    "        self.speed = speed        \n",
    "        self.ang = ang        \n",
    "        self.temp = temp\n",
    "    \n",
    "    def get_info(self):\n",
    "        return {\n",
    "            \"pos\": self.pos,\n",
    "            \"speed\": self.speed,\n",
    "            \"ang\": self.ang,\n",
    "            \"temp\": self.temp\n",
    "        }\n",
    "    \n",
    "    def get_pos(self):\n",
    "        return self.pos\n",
    "    \n",
    "    def set_pos(self, pos):\n",
    "        self.pos = pos\n",
    "        return True"
   ]
  },
  {
   "cell_type": "code",
   "execution_count": 51,
   "metadata": {},
   "outputs": [],
   "source": [
    "class App:\n",
    "    \n",
    "    def __init__(self, dimensions, dots):\n",
    "        self.dimensions = dimensions\n",
    "        self.dots = dots\n",
    "        self.dots_pos = {}\n",
    "        self.build_plot(self.dimensions, self.dots)\n",
    "        \n",
    "    def build_plot(self, dimensions, dots):\n",
    "        total_dots = dimensions[0] * dimensions[1]\n",
    "        data = []\n",
    "\n",
    "        if len(dots) != total_dots:\n",
    "            print(\"Dimensões inválidas\")\n",
    "        else:\n",
    "            x = 0\n",
    "            y = 0\n",
    "            d = []\n",
    "            for dot in dots:\n",
    "                x += 1\n",
    "                info = dot.get_info()\n",
    "                # set dot position\n",
    "                dot.set_pos([x, y+1])\n",
    "                d.append(info[\"temp\"] - 273)\n",
    "                if x == dimensions[0] :\n",
    "                    data.append(d)\n",
    "                    d = []\n",
    "                    x = 0\n",
    "                    y += 1\n",
    "                    \n",
    "            # load dot position\n",
    "            self.load_dots_pos()\n",
    "\n",
    "            fig, ax = plt.subplots()\n",
    "            ax.imshow(data, cmap='coolwarm')\n",
    "\n",
    "            # draw gridlines\n",
    "            ax.grid(which='major', axis='both', linestyle='-', linewidth=2)\n",
    "            ax.set_xticks(np.arange(-0.5, dimensions[0], 1));\n",
    "            ax.set_yticks(np.arange(-0.5, dimensions[1], 1));\n",
    "            ax.set_xticklabels([])\n",
    "            ax.set_yticklabels([])\n",
    "\n",
    "            # print temperature\n",
    "            for dot in dots:\n",
    "                info = dot.get_info()\n",
    "                pos = info['pos']\n",
    "                label = info['temp']\n",
    "                ax.text(pos[0]-1, pos[1]-1, label, color='black', ha='center', va='center', weight=\"bold\")\n",
    "\n",
    "            plt.show()\n",
    "            \n",
    "            \n",
    "    def interacoes(self, dots, h=0.024, tempo = 60, area = 1):\n",
    "        conectados = []\n",
    "        for dot in dots:\n",
    "            pos = dot.get_pos()\n",
    "            if pos[0] > 1 :\n",
    "                pass\n",
    "        # this will run only once after the build\n",
    "        \n",
    "    def load_dots_pos(self):\n",
    "        resp = {}\n",
    "        for dot in dots:\n",
    "            pos = dot.get_pos()\n",
    "            \n",
    "            resp[self._pos_to_str(pos)] = dot\n",
    "\n",
    "        self.dots_pos = resp\n",
    "\n",
    "    def _pos_to_str(self, pos):\n",
    "        return f\"{pos[0]}-{pos[1]}\"\n",
    "    \n",
    "    def run(self):\n",
    "        while True:\n",
    "            sleep(1)\n",
    "            "
   ]
  },
  {
   "cell_type": "code",
   "execution_count": 44,
   "metadata": {},
   "outputs": [
    {
     "data": {
      "image/png": "[encoded data removed]",
      "text/plain": [
       "<Figure size 432x288 with 1 Axes>"
      ]
     },
     "metadata": {
      "needs_background": "light"
     },
     "output_type": "display_data"
    }
   ],
   "source": [
    "dots = []\n",
    "dots.append(Dot(0, 0, 273))\n",
    "dots.append(Dot(0, 0, 573))\n",
    "dimensions = [2,1]\n",
    "\n",
    "app = App(dimensions, dots)"
   ]
  },
  {
   "cell_type": "code",
   "execution_count": null,
   "metadata": {},
   "outputs": [],
   "source": []
  },
  {
   "cell_type": "code",
   "execution_count": null,
   "metadata": {},
   "outputs": [],
   "source": []
  },
  {
   "cell_type": "code",
   "execution_count": null,
   "metadata": {},
   "outputs": [],
   "source": []
  },
  {
   "cell_type": "code",
   "execution_count": null,
   "metadata": {},
   "outputs": [],
   "source": []
  }
 ],
 "metadata": {
  "kernelspec": {
   "display_name": "Python 3",
   "language": "python",
   "name": "python3"
  },
  "language_info": {
   "codemirror_mode": {
    "name": "ipython",
    "version": 3
   },
   "file_extension": ".py",
   "mimetype": "text/x-python",
   "name": "python",
   "nbconvert_exporter": "python",
   "pygments_lexer": "ipython3",
   "version": "3.8.5"
  }
 },
 "nbformat": 4,
 "nbformat_minor": 4
}
