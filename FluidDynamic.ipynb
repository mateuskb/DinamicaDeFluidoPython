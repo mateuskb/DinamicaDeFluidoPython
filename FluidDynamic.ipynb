{
 "cells": [
  {
   "cell_type": "code",
   "execution_count": 152,
   "metadata": {
    "scrolled": true
   },
   "outputs": [],
   "source": [
    "import numpy as np\n",
    "from matplotlib import pyplot as plt\n",
    "from matplotlib import colors\n",
    "import time, sys, random, operator\n",
    "from time import sleep\n",
    "import itertools\n",
    "from matplotlib.colors import Normalize"
   ]
  },
  {
   "cell_type": "code",
   "execution_count": 2,
   "metadata": {
    "scrolled": true
   },
   "outputs": [],
   "source": [
    "%matplotlib inline"
   ]
  },
  {
   "cell_type": "code",
   "execution_count": 150,
   "metadata": {
    "scrolled": true
   },
   "outputs": [],
   "source": [
    "class Dot:\n",
    "    \n",
    "    def __init__(self, index, speed, ang, temp):\n",
    "        self.index = index\n",
    "        self.pos = [0, 0]\n",
    "        self.speed = speed        \n",
    "        self.ang = ang        \n",
    "        self.temp = temp if temp > 0 else 0.1\n",
    "    \n",
    "    def get_info(self):\n",
    "        return {\n",
    "            \"pos\": self.pos,\n",
    "            \"speed\": self.speed,\n",
    "            \"ang\": self.ang,\n",
    "            \"temp\": self.temp\n",
    "        }\n",
    "    \n",
    "    def get_pos(self):\n",
    "        return self.pos\n",
    "    \n",
    "    def get_index(self):\n",
    "        return self.index\n",
    "    \n",
    "    def get_temp(self):\n",
    "        return self.temp\n",
    "    \n",
    "    def set_pos(self, pos):\n",
    "        self.pos = pos\n",
    "        return True\n",
    "    \n",
    "    def set_temp(self, temp):\n",
    "        self.temp = temp\n",
    "        return True\n",
    "    \n",
    "    def get_mass(self, atm, opt):\n",
    "        if(opt == \"constant\"):\n",
    "            d = 1.225 \n",
    "        else:    \n",
    "            d = 0\n",
    "            p = atm * 101325\n",
    "            R = 287\n",
    "            t = self.temp\n",
    "\n",
    "            d = p/(R*t)\n",
    "        \n",
    "        return d\n",
    "        \n",
    "    \n",
    "    def __eq__(self, other):\n",
    "        return self.get_index() == other.get_index()\n",
    "\n",
    "    def __lt__(self, other):\n",
    "        return self.get_index() < other.get_index()"
   ]
  },
  {
   "cell_type": "code",
   "execution_count": 178,
   "metadata": {
    "scrolled": true
   },
   "outputs": [],
   "source": [
    "class App:\n",
    "    \n",
    "    def __init__(self, dimensions, dots, atm=1, mass=\"variable\"):\n",
    "        self.atm = atm\n",
    "        self.dimensions = dimensions\n",
    "        self.dots = dots\n",
    "        self.dots_pos = {}\n",
    "        self.dots_conections = []\n",
    "        self.max_temp = 0\n",
    "        if mass != \"variable\" and mass != \"constant\":\n",
    "            self.mass = \"variable\"\n",
    "        else:\n",
    "            self.mass=mass\n",
    "        self.build_plot(self.dimensions, self.dots)\n",
    "        \n",
    "    def build_plot(self, dimensions, dots):\n",
    "        total_dots = dimensions[0] * dimensions[1]\n",
    "        data = []\n",
    "\n",
    "        if len(dots) != total_dots:\n",
    "            print(\"Dimensões inválidas\")\n",
    "        else:\n",
    "            x = 0\n",
    "            y = 0\n",
    "            d = []\n",
    "            for dot in dots:\n",
    "                x += 1\n",
    "                info = dot.get_info()\n",
    "                # set dot position\n",
    "                dot.set_pos([x, y+1])\n",
    "                d.append(info[\"temp\"] - 273)\n",
    "                if info[\"temp\"] - 273 > self.max_temp:\n",
    "                    self.max_temp = info[\"temp\"] - 273\n",
    "                if x == dimensions[0] :\n",
    "                    data.append(d)\n",
    "                    d = []\n",
    "                    x = 0\n",
    "                    y += 1\n",
    "                    \n",
    "            # load dot position\n",
    "            self._load_dots_pos()\n",
    "\n",
    "            fig, ax = plt.subplots()\n",
    "            ax.imshow(data, cmap='coolwarm', norm=Normalize(0, 800))\n",
    "\n",
    "            # draw gridlines\n",
    "            ax.grid(which='major', axis='both', linestyle='-', linewidth=2)\n",
    "            ax.set_xticks(np.arange(-0.5, dimensions[0], 1));\n",
    "            ax.set_yticks(np.arange(-0.5, dimensions[1], 1));\n",
    "            ax.set_xticklabels([])\n",
    "            ax.set_yticklabels([])\n",
    "\n",
    "            # print temperature\n",
    "            for dot in dots:\n",
    "                info = dot.get_info()\n",
    "                pos = info['pos']\n",
    "                label = info['temp']\n",
    "                ax.text(pos[0]-1, pos[1]-1, label, color='black', ha='center', va='center', weight=\"bold\")\n",
    "\n",
    "            plt.show()\n",
    "            \n",
    "    def load_plot(self):\n",
    "        dimensions = self.dimensions\n",
    "        dots = self.dots\n",
    "        data = []\n",
    "\n",
    "        x = 0\n",
    "        d = []\n",
    "        for dot in dots:\n",
    "            x += 1\n",
    "            info = dot.get_info()\n",
    "            # set dot position\n",
    "            d.append(info[\"temp\"] - 273)\n",
    "            if x == dimensions[0] :\n",
    "                data.append(d)\n",
    "                d = []\n",
    "                x = 0\n",
    "\n",
    "        fig, ax = plt.subplots()\n",
    "        ax.imshow(data, cmap='coolwarm', norm=Normalize(0, 2000))\n",
    "\n",
    "        # draw gridlines\n",
    "        ax.grid(which='major', axis='both', linestyle='-', linewidth=2)\n",
    "        ax.set_xticks(np.arange(-0.5, dimensions[0], 1));\n",
    "        ax.set_yticks(np.arange(-0.5, dimensions[1], 1));\n",
    "        ax.set_xticklabels([])\n",
    "        ax.set_yticklabels([])\n",
    "\n",
    "        # print temperature\n",
    "        for dot in dots:\n",
    "            info = dot.get_info()\n",
    "            pos = info['pos']\n",
    "            label = info['temp']\n",
    "            ax.text(pos[0]-1, pos[1]-1, label, color='black', ha='center', va='center', weight=\"bold\")\n",
    "\n",
    "        plt.show()\n",
    "            \n",
    "    def _load_interacoes(self, dots):\n",
    "        conectados = []\n",
    "        for dot in dots:\n",
    "            pos = dot.get_pos()\n",
    "            index = dot.get_index()\n",
    "            \n",
    "            value = self.get_dot_per_pos([pos[0]-1, pos[1]])\n",
    "            if(value):\n",
    "                if index > value.get_index():\n",
    "                    conectados.append([value, dot])\n",
    "                else:\n",
    "                    conectados.append([dot, value])  \n",
    "        \n",
    "            value = self.get_dot_per_pos([pos[0]+1, pos[1]])\n",
    "            if(value):\n",
    "                if index > value.get_index():\n",
    "                    conectados.append([value, dot])\n",
    "                else:\n",
    "                    conectados.append([dot, value])  \n",
    "            \n",
    "            value = self.get_dot_per_pos([pos[0], pos[1]-1])\n",
    "            if(value):\n",
    "                if index > value.get_index():\n",
    "                    conectados.append([value, dot])\n",
    "                else:\n",
    "                    conectados.append([dot, value]) \n",
    "                    \n",
    "            value = self.get_dot_per_pos([pos[0], pos[1]+1])\n",
    "            if(value):\n",
    "                if index > value.get_index():\n",
    "                    conectados.append([value, dot])\n",
    "                else:\n",
    "                    conectados.append([dot, value])  \n",
    "        \n",
    "        conectados.sort()\n",
    "        self.dots_conections = list(k for k,_ in itertools.groupby(conectados))\n",
    "        \n",
    "        \n",
    "    def _load_dots_pos(self):\n",
    "        resp = {}\n",
    "        for dot in dots:\n",
    "            pos = dot.get_pos()\n",
    "            \n",
    "            resp[self._pos_to_str(pos)] = dot\n",
    "\n",
    "        self.dots_pos = resp\n",
    "        self._load_interacoes(dots)\n",
    "    \n",
    "    def _pos_to_str(self, pos):\n",
    "        return f\"{pos[0]}-{pos[1]}\"\n",
    "    \n",
    "    def get_dot_per_pos(self, pos):\n",
    "        pos = self._pos_to_str(pos)\n",
    "        if pos in self.dots_pos:\n",
    "            return self.dots_pos[pos]\n",
    "        else:\n",
    "            return False\n",
    "        \n",
    "    def cycle(self):\n",
    "        done = False\n",
    "        int_done = 0\n",
    "        \n",
    "        for conn in self.dots_conections:\n",
    "            if conn[0].get_temp() != conn[1].get_temp():\n",
    "                resp = self.calc(conn[0], conn[1])\n",
    "                conn[0].set_temp(resp)\n",
    "                conn[1].set_temp(resp)\n",
    "            else:\n",
    "                int_done += 1\n",
    "                if int_done == len(self.dots_conections):\n",
    "                    done = True\n",
    "        \n",
    "        return done\n",
    "        \n",
    "    def calc(self, dot1, dot2):\n",
    "        # mcT + mcT = 0\n",
    "        # m1.c.(Tf - Ti) + m1.c.(Tf - Ti) = 0\n",
    "        # Tf = (m1 * T1 + m2 * T2) / m1 + m2\n",
    "        m1 = dot1.get_mass(self.atm, self.mass)\n",
    "        m2 = dot2.get_mass(self.atm, self.mass)\n",
    "        T1 = dot1.get_temp()\n",
    "        T2 = dot2.get_temp()\n",
    "        Tf = (m1 * T1 + m2 * T2) / (m1 + m2)\n",
    "        Tf = round(Tf,2)\n",
    "        return Tf\n",
    "        \n",
    "    def run(self):\n",
    "        running = True\n",
    "        while running:\n",
    "            self.load_plot()\n",
    "            if self.cycle():\n",
    "                running = False\n",
    "            else:\n",
    "                # set load speed\n",
    "                # comment to disable\n",
    "                sleep(1)\n",
    "                pass\n",
    "            "
   ]
  },
  {
   "cell_type": "code",
   "execution_count": 179,
   "metadata": {
    "scrolled": true
   },
   "outputs": [
    {
     "data": {
      "image/png": "[encoded data removed]",
      "text/plain": [
       "<Figure size 432x288 with 1 Axes>"
      ]
     },
     "metadata": {
      "needs_background": "light"
     },
     "output_type": "display_data"
    }
   ],
   "source": [
    "# set dots and dimension\n",
    "dots = []\n",
    "dots.append(Dot(1, 0, 0, 1))\n",
    "dots.append(Dot(2, 0, 0, 1673))\n",
    "dots.append(Dot(2, 0, 0, 1000))\n",
    "dots.append(Dot(1, 0, 0, 400))\n",
    "dots.append(Dot(2, 0, 0, 773))\n",
    "dots.append(Dot(2, 0, 0, 1000))\n",
    "\n",
    "dimensions = [3, 2]\n",
    "\n",
    "# start App\n",
    "app = App(dimensions, dots, atm=1, mass=\"constant\")"
   ]
  },
  {
   "cell_type": "code",
   "execution_count": 177,
   "metadata": {},
   "outputs": [
    {
     "data": {
      "image/png": "[encoded data removed]",
      "text/plain": [
       "<Figure size 432x288 with 1 Axes>"
      ]
     },
     "metadata": {
      "needs_background": "light"
     },
     "output_type": "display_data"
    },
    {
     "data": {
      "image/png": "[encoded data removed]",
      "text/plain": [
       "<Figure size 432x288 with 1 Axes>"
      ]
     },
     "metadata": {
      "needs_background": "light"
     },
     "output_type": "display_data"
    },
    {
     "data": {
      "image/png": "[encoded data removed]",
      "text/plain": [
       "<Figure size 432x288 with 1 Axes>"
      ]
     },
     "metadata": {
      "needs_background": "light"
     },
     "output_type": "display_data"
    },
    {
     "data": {
      "image/png": "[encoded data removed]",
      "text/plain": [
       "<Figure size 432x288 with 1 Axes>"
      ]
     },
     "metadata": {
      "needs_background": "light"
     },
     "output_type": "display_data"
    },
    {
     "data": {
      "image/png": "[encoded data removed]",
      "text/plain": [
       "<Figure size 432x288 with 1 Axes>"
      ]
     },
     "metadata": {
      "needs_background": "light"
     },
     "output_type": "display_data"
    },
    {
     "data": {
      "image/png": "[encoded data removed]",
      "text/plain": [
       "<Figure size 432x288 with 1 Axes>"
      ]
     },
     "metadata": {
      "needs_background": "light"
     },
     "output_type": "display_data"
    },
    {
     "data": {
      "image/png": "[encoded data removed]",
      "text/plain": [
       "<Figure size 432x288 with 1 Axes>"
      ]
     },
     "metadata": {
      "needs_background": "light"
     },
     "output_type": "display_data"
    },
    {
     "data": {
      "image/png": "[encoded data removed]",
      "text/plain": [
       "<Figure size 432x288 with 1 Axes>"
      ]
     },
     "metadata": {
      "needs_background": "light"
     },
     "output_type": "display_data"
    },
    {
     "data": {
      "image/png": "[encoded data removed]",
      "text/plain": [
       "<Figure size 432x288 with 1 Axes>"
      ]
     },
     "metadata": {
      "needs_background": "light"
     },
     "output_type": "display_data"
    },
    {
     "data": {
      "image/png": "[encoded data removed]",
      "text/plain": [
       "<Figure size 432x288 with 1 Axes>"
      ]
     },
     "metadata": {
      "needs_background": "light"
     },
     "output_type": "display_data"
    },
    {
     "data": {
      "image/png": "[encoded data removed]",
      "text/plain": [
       "<Figure size 432x288 with 1 Axes>"
      ]
     },
     "metadata": {
      "needs_background": "light"
     },
     "output_type": "display_data"
    },
    {
     "data": {
      "image/png": "[encoded data removed]",
      "text/plain": [
       "<Figure size 432x288 with 1 Axes>"
      ]
     },
     "metadata": {
      "needs_background": "light"
     },
     "output_type": "display_data"
    },
    {
     "data": {
      "image/png": "[encoded data removed]",
      "text/plain": [
       "<Figure size 432x288 with 1 Axes>"
      ]
     },
     "metadata": {
      "needs_background": "light"
     },
     "output_type": "display_data"
    },
    {
     "data": {
      "image/png": "[encoded data removed]",
      "text/plain": [
       "<Figure size 432x288 with 1 Axes>"
      ]
     },
     "metadata": {
      "needs_background": "light"
     },
     "output_type": "display_data"
    },
    {
     "data": {
      "image/png": "[encoded data removed]",
      "text/plain": [
       "<Figure size 432x288 with 1 Axes>"
      ]
     },
     "metadata": {
      "needs_background": "light"
     },
     "output_type": "display_data"
    },
    {
     "data": {
      "image/png": "[encoded data removed]",
      "text/plain": [
       "<Figure size 432x288 with 1 Axes>"
      ]
     },
     "metadata": {
      "needs_background": "light"
     },
     "output_type": "display_data"
    },
    {
     "data": {
      "image/png": "[encoded data removed]",
      "text/plain": [
       "<Figure size 432x288 with 1 Axes>"
      ]
     },
     "metadata": {
      "needs_background": "light"
     },
     "output_type": "display_data"
    },
    {
     "data": {
      "image/png": "[encoded data removed]",
      "text/plain": [
       "<Figure size 432x288 with 1 Axes>"
      ]
     },
     "metadata": {
      "needs_background": "light"
     },
     "output_type": "display_data"
    }
   ],
   "source": [
    "# run app\n",
    "app.run()"
   ]
  },
  {
   "cell_type": "code",
   "execution_count": 172,
   "metadata": {},
   "outputs": [
    {
     "data": {
      "image/png": "[encoded data removed]",
      "text/plain": [
       "<Figure size 432x288 with 1 Axes>"
      ]
     },
     "metadata": {
      "needs_background": "light"
     },
     "output_type": "display_data"
    }
   ],
   "source": [
    "app.load_plot()"
   ]
  },
  {
   "cell_type": "code",
   "execution_count": 102,
   "metadata": {
    "scrolled": true
   },
   "outputs": [
    {
     "ename": "TypeError",
     "evalue": "get_mass() missing 1 required positional argument: 'opt'",
     "output_type": "error",
     "traceback": [
      "\u001b[1;31m---------------------------------------------------------------------------\u001b[0m",
      "\u001b[1;31mTypeError\u001b[0m                                 Traceback (most recent call last)",
      "\u001b[1;32m<ipython-input-102-fca6702b6128>\u001b[0m in \u001b[0;36m<module>\u001b[1;34m\u001b[0m\n\u001b[1;32m----> 1\u001b[1;33m \u001b[0mapp\u001b[0m\u001b[1;33m.\u001b[0m\u001b[0mdots\u001b[0m\u001b[1;33m[\u001b[0m\u001b[1;36m0\u001b[0m\u001b[1;33m]\u001b[0m\u001b[1;33m.\u001b[0m\u001b[0mget_mass\u001b[0m\u001b[1;33m(\u001b[0m\u001b[1;36m1\u001b[0m\u001b[1;33m)\u001b[0m\u001b[1;33m\u001b[0m\u001b[1;33m\u001b[0m\u001b[0m\n\u001b[0m",
      "\u001b[1;31mTypeError\u001b[0m: get_mass() missing 1 required positional argument: 'opt'"
     ]
    }
   ],
   "source": [
    "app.dots[0].get_mass(1)"
   ]
  },
  {
   "cell_type": "code",
   "execution_count": 87,
   "metadata": {
    "scrolled": true
   },
   "outputs": [
    {
     "data": {
      "text/plain": [
       "301.4517506404782"
      ]
     },
     "execution_count": 87,
     "metadata": {},
     "output_type": "execute_result"
    }
   ],
   "source": [
    "353 / (0.2245+0.9465)"
   ]
  },
  {
   "cell_type": "code",
   "execution_count": null,
   "metadata": {
    "scrolled": true
   },
   "outputs": [],
   "source": []
  }
 ],
 "metadata": {
  "kernelspec": {
   "display_name": "Python 3",
   "language": "python",
   "name": "python3"
  },
  "language_info": {
   "codemirror_mode": {
    "name": "ipython",
    "version": 3
   },
   "file_extension": ".py",
   "mimetype": "text/x-python",
   "name": "python",
   "nbconvert_exporter": "python",
   "pygments_lexer": "ipython3",
   "version": "3.8.5"
  }
 },
 "nbformat": 4,
 "nbformat_minor": 4
}
